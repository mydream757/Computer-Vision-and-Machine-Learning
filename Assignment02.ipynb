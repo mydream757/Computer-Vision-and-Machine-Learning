{
 "cells": [
  {
   "cell_type": "markdown",
   "metadata": {},
   "source": [
    "**Name** : Joonyoung-Choi\n",
    "\n",
    "**Student ID**: 20112096"
   ]
  },
  {
   "cell_type": "markdown",
   "metadata": {},
   "source": [
    "**Description:** Plot the graph of Taylor approximation"
   ]
  },
  {
   "cell_type": "markdown",
   "metadata": {},
   "source": [
    "# import Libraries"
   ]
  },
  {
   "cell_type": "markdown",
   "metadata": {},
   "source": [
    "* import libraries, numpy and matplotlib.pyplot for math functions and plot drawing\n",
    "* define each object, np and plt"
   ]
  },
  {
   "cell_type": "code",
   "execution_count": 1,
   "metadata": {},
   "outputs": [],
   "source": [
    "import numpy as np\n",
    "import matplotlib.pyplot as plt"
   ]
  },
  {
   "cell_type": "markdown",
   "metadata": {},
   "source": [
    "# Define function and derivative"
   ]
  },
  {
   "cell_type": "markdown",
   "metadata": {},
   "source": [
    "* define a function: $\\quad f(x) = x^3 \\cdot \\cos x-x^2\n",
    "  \\cdot \\sin 2x+x \\cdot \\cos x $"
   ]
  },
  {
   "cell_type": "code",
   "execution_count": 2,
   "metadata": {},
   "outputs": [],
   "source": [
    "def Function(x):\n",
    "    f = np.cos(x)*x*x*x-np.sin(2*x)*x*x+np.cos(x)*x\n",
    "    return f"
   ]
  },
  {
   "cell_type": "markdown",
   "metadata": {},
   "source": [
    "* define the derivative function : $\\quad f(x)=-x^3 \\cdot \\sin x +\n",
    "  3x^2 \\cdot \\cos x-2x \\cdot \\sin 2x-2x \\cdot \\cos 2x-x \\cdot \\sin x\n",
    "  + \\cos x $"
   ]
  },
  {
   "cell_type": "code",
   "execution_count": 3,
   "metadata": {},
   "outputs": [],
   "source": [
    "def DerivativeFunction(x):\n",
    "    d = -x*x*x*np.sin(x)+3*x*x*np.cos(x)-2*x*np.sin(2*x)-2*x*np.cos(2*x)-x*np.sin(x)+np.cos(x)\n",
    "    return d"
   ]
  },
  {
   "cell_type": "markdown",
   "metadata": {},
   "source": [
    "# Pick 3 points"
   ]
  },
  {
   "cell_type": "markdown",
   "metadata": {},
   "source": [
    "* If we can get $f(a)$ and $f'(a)$ at $a$, \n",
    "we can find tangent line at the specific point and use $f(x)$ approximation.\n",
    "$\\qquad f(x)\\thickapprox f(a) + f'(a)(x-a)$"
   ]
  },
  {
   "cell_type": "markdown",
   "metadata": {},
   "source": [
    "* For that,  pick $a,b,c$"
   ]
  },
  {
   "cell_type": "markdown",
   "metadata": {},
   "source": [
    "$\\qquad x_a:11,\\quad x_b:3, \\quad x_c:12$\n",
    "$\\qquad y_a:f(x_a),\\quad y_b:f(x_b),\\quad y_c:f(x_c)$"
   ]
  },
  {
   "cell_type": "code",
   "execution_count": 4,
   "metadata": {},
   "outputs": [],
   "source": [
    "xs = [12,17,24]\n",
    "ys = [Function(12),Function(17),Function(24)]"
   ]
  },
  {
   "cell_type": "markdown",
   "metadata": {},
   "source": [
    "# Define tangent lines"
   ]
  },
  {
   "cell_type": "markdown",
   "metadata": {},
   "source": [
    "* define the tangent lines at the points\n",
    "    * $f(x)=f(x_a) + f'(x_a)(x-x_a)$\n",
    "    * $f(x)=f(x_b) + f'(x_b)(x-x_b)$\n",
    "    * $f(x)=f(x_c) + f'(x_c)(x-x_c)$"
   ]
  },
  {
   "cell_type": "code",
   "execution_count": 5,
   "metadata": {},
   "outputs": [],
   "source": [
    "def DerivativeFunction(x):\n",
    "    d = -x*x*x*np.sin(x)+3*x*x*np.cos(x)-2*x*np.sin(2*x)-2*x*np.cos(2*x)-x*np.sin(x)+np.cos(x)\n",
    "    return d\n",
    "def tangentFunctionA(x):\n",
    "    t1 = Function(12) + DerivativeFunction(12)*(x-12)\n",
    "    return t1\n",
    "def tangentFunctionB(x):\n",
    "    t2 = Function(17) + DerivativeFunction(17)*(x-17)\n",
    "    return t2\n",
    "def tangentFunctionC(x):\n",
    "    t3 = Function(24) + DerivativeFunction(24)*(x-24)\n",
    "    return t3"
   ]
  },
  {
   "cell_type": "markdown",
   "metadata": {},
   "source": [
    "# Define the domain"
   ]
  },
  {
   "cell_type": "markdown",
   "metadata": {},
   "source": [
    "* define the domain: $x = [10 : 0.1 : 30]$"
   ]
  },
  {
   "cell_type": "code",
   "execution_count": 6,
   "metadata": {},
   "outputs": [],
   "source": [
    "x = np.arange(10, 30, 0.1)"
   ]
  },
  {
   "cell_type": "markdown",
   "metadata": {},
   "source": [
    "# Calculate functions"
   ]
  },
  {
   "cell_type": "code",
   "execution_count": 7,
   "metadata": {},
   "outputs": [],
   "source": [
    "f=Function(x)\n",
    "d=DerivativeFunction(x)\n",
    "t1=tangentFunctionA(x)\n",
    "t2=tangentFunctionB(x)\n",
    "t3=tangentFunctionC(x)"
   ]
  },
  {
   "cell_type": "markdown",
   "metadata": {},
   "source": [
    "# Plot the graphs of the functions"
   ]
  },
  {
   "cell_type": "code",
   "execution_count": 8,
   "metadata": {},
   "outputs": [
    {
     "data": {
      "image/png": "[encoded data removed]",
      "text/plain": [
       "<Figure size 432x288 with 1 Axes>"
      ]
     },
     "metadata": {},
     "output_type": "display_data"
    }
   ],
   "source": [
    "plt.figure(1)\n",
    "plt.title('First order')\n",
    "plt.grid(True)\n",
    "plt.plot(x, f, 'b', label=\"function\")\n",
    "plt.plot(xs,ys,'k.')\n",
    "plt.plot(x, t1, 'y', label=\"tangent1\")\n",
    "plt.plot(x, t2, 'g',label=\"tangent2\")\n",
    "plt.plot(x, t3, 'r',label=\"tangent3\")\n",
    "plt.legend(bbox_to_anchor=(1.05, 1), loc=2, borderaxespad=0.)\n",
    "plt.show()"
   ]
  },
  {
   "cell_type": "code",
   "execution_count": null,
   "metadata": {},
   "outputs": [],
   "source": []
  },
  {
   "cell_type": "code",
   "execution_count": null,
   "metadata": {},
   "outputs": [],
   "source": []
  }
 ],
 "metadata": {
  "kernelspec": {
   "display_name": "Python 3",
   "language": "python",
   "name": "python3"
  },
  "language_info": {
   "codemirror_mode": {
    "name": "ipython",
    "version": 3
   },
   "file_extension": ".py",
   "mimetype": "text/x-python",
   "name": "python",
   "nbconvert_exporter": "python",
   "pygments_lexer": "ipython3",
   "version": "3.6.5"
  }
 },
 "nbformat": 4,
 "nbformat_minor": 2
}
