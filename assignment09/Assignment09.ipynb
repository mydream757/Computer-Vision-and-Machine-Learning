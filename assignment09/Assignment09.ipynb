{
 "cells": [
  {
   "cell_type": "markdown",
   "metadata": {},
   "source": [
    "* Name : Joonyoung-Choi\n",
    "* Student ID: 20112096\n",
    "* Description: \n",
    "* github: https://github.com/mydream757/Computer_Vision"
   ]
  },
  {
   "cell_type": "markdown",
   "metadata": {},
   "source": [
    "1. Import libraries"
   ]
  },
  {
   "cell_type": "markdown",
   "metadata": {},
   "source": [
    "* import needed libraries."
   ]
  },
  {
   "cell_type": "code",
   "execution_count": 1,
   "metadata": {},
   "outputs": [],
   "source": [
    "import matplotlib.pyplot as plt\n",
    "import numpy as np\n",
    "import numpy.linalg as lin\n",
    "from matplotlib.image import imread"
   ]
  },
  {
   "cell_type": "markdown",
   "metadata": {},
   "source": [
    "2. Read data from CSV files"
   ]
  },
  {
   "cell_type": "markdown",
   "metadata": {},
   "source": [
    "* get ready for using MNIST data"
   ]
  },
  {
   "cell_type": "code",
   "execution_count": 2,
   "metadata": {},
   "outputs": [],
   "source": [
    "file_data_train = \"mnist_train.csv\"\n",
    "file_data_test  = \"mnist_test.csv\"\n",
    "\n",
    "h_data_train    = open(file_data_train, \"r\")\n",
    "h_data_test     = open(file_data_test, \"r\")\n",
    "\n",
    "data_train      = h_data_train.readlines()\n",
    "data_test       = h_data_test.readlines()\n",
    "\n",
    "h_data_train.close()\n",
    "h_data_test.close()\n",
    "\n",
    "size_row    = 28    # height of the image\n",
    "size_col    = 28    # width of the image\n",
    "\n",
    "num_train   = len(data_train)   # number of training images\n",
    "num_test    = len(data_test)    # number of testing images"
   ]
  },
  {
   "cell_type": "markdown",
   "metadata": {},
   "source": [
    "3. Define functions"
   ]
  },
  {
   "cell_type": "markdown",
   "metadata": {},
   "source": [
    "* the function of data normalizing"
   ]
  },
  {
   "cell_type": "code",
   "execution_count": 3,
   "metadata": {},
   "outputs": [],
   "source": [
    "# normalize the values of the input data to be [0, 1]\n",
    "def normalize(data):\n",
    "    data_normalized = (data - min(data)) / (max(data) - min(data))\n",
    "    return(data_normalized)"
   ]
  },
  {
   "cell_type": "markdown",
   "metadata": {},
   "source": [
    "* the function of computing distance"
   ]
  },
  {
   "cell_type": "code",
   "execution_count": 4,
   "metadata": {},
   "outputs": [],
   "source": [
    "# example of distance function between two vectors x and y\n",
    "def distance(x, y):\n",
    "\n",
    "    d = (x - y) ** 2\n",
    "    s = np.sum(d)\n",
    "    # r = np.sqrt(s)\n",
    "    return(s)"
   ]
  },
  {
   "cell_type": "markdown",
   "metadata": {},
   "source": [
    "* the function of 'feature funtion'. this returns feature upto max P."
   ]
  },
  {
   "cell_type": "code",
   "execution_count": 5,
   "metadata": {},
   "outputs": [],
   "source": [
    "# return the feature function vectors upto Max P\n",
    "def featureFun(maxP):\n",
    "    #feature function: numpy.random.normal\n",
    "    f = np.empty((size_col*size_row,maxP),dtype=float)\n",
    "    for i in range(maxP):\n",
    "        f[:,i]=np.random.normal(0,1,size_col*size_row)\n",
    "    #result = np.dot(f.T,x.T)\n",
    "    return f"
   ]
  },
  {
   "cell_type": "markdown",
   "metadata": {},
   "source": [
    "4. Ready for test"
   ]
  },
  {
   "cell_type": "markdown",
   "metadata": {},
   "source": [
    "* make containers which contain MNIST image data"
   ]
  },
  {
   "cell_type": "code",
   "execution_count": 6,
   "metadata": {},
   "outputs": [],
   "source": [
    "#make a matrix each column of which represents an images\n",
    "list_image_train    = np.empty((num_train, size_row * size_col), dtype=float)\n",
    "list_label_train    = np.empty(num_train, dtype=int)\n",
    "\n",
    "list_image_test     = np.empty((num_test, size_row * size_col), dtype=float)\n",
    "list_label_test     = np.empty(num_test, dtype=int)"
   ]
  },
  {
   "cell_type": "markdown",
   "metadata": {},
   "source": [
    "* parse the data sets"
   ]
  },
  {
   "cell_type": "code",
   "execution_count": 7,
   "metadata": {},
   "outputs": [],
   "source": [
    "#parse the data sets\n",
    "count = 0\n",
    "for line in data_train:\n",
    "\n",
    "    line_data   = line.split(',')\n",
    "    label       = line_data[0]\n",
    "    im_vector   = np.asfarray(line_data[1:])\n",
    "    im_vector   = normalize(im_vector)\n",
    "\n",
    "    list_label_train[count]    = label\n",
    "    list_image_train[count,:]  = im_vector\n",
    "\n",
    "    count += 1\n",
    "\n",
    "count = 0\n",
    "for line in data_test:\n",
    "\n",
    "    line_data   = line.split(',')\n",
    "    label       = line_data[0]\n",
    "    im_vector   = np.asfarray(line_data[1:])\n",
    "    im_vector   = normalize(im_vector)\n",
    "\n",
    "    list_label_test[count]    = label\n",
    "    list_image_test[count,:]  = im_vector\n",
    "\n",
    "    count += 1"
   ]
  },
  {
   "cell_type": "markdown",
   "metadata": {},
   "source": [
    "* compute average images of each digits and label 1 or -1"
   ]
  },
  {
   "cell_type": "code",
   "execution_count": 8,
   "metadata": {},
   "outputs": [],
   "source": [
    "im_average  = np.zeros((10, size_col*size_row), dtype=float)\n",
    "im_count    = np.zeros(10, dtype=int)\n",
    "\n",
    "for i in range(num_train):\n",
    "    im_average[list_label_train[i],:] += list_image_train[i,:]\n",
    "    im_count[list_label_train[i]] += 1\n",
    "\n",
    "im_label = np.zeros((10,1), dtype=float)\n",
    "for i in range(10):\n",
    "    im_average[i,:] /= im_count[i]\n",
    "    #label = 0 : 1, others : -1\n",
    "    if i==0:\n",
    "        im_label[0,0] = 1\n",
    "    else:\n",
    "        im_label[i,0] = -1"
   ]
  },
  {
   "cell_type": "markdown",
   "metadata": {},
   "source": [
    "* Ready for test"
   ]
  },
  {
   "cell_type": "code",
   "execution_count": 9,
   "metadata": {},
   "outputs": [
    {
     "name": "stdout",
     "output_type": "stream",
     "text": [
      "MaxP:  16384\n"
     ]
    }
   ],
   "source": [
    "#Ready for test\n",
    "experiment_label_test = np.empty(num_test, dtype=int)\n",
    "experiment_average_test = np.zeros((4,size_row * size_col), dtype=float)\n",
    "experiment_count_test = np.zeros(4, dtype=int)\n",
    "result_average_test = np.zeros((4,size_row * size_col), dtype=float)\n",
    "result_count_test = np.zeros(4, dtype=int)\n",
    "Final = 0\n",
    "FinalP = 0\n",
    "#P can't be over MaxP\n",
    "maxP = pow(2, 14)\n",
    "print(\"MaxP: \",maxP)\n",
    "#compute feature function of MaxP\n",
    "f = featureFun(maxP)"
   ]
  },
  {
   "cell_type": "markdown",
   "metadata": {},
   "source": [
    "5. Test and Find the best p"
   ]
  },
  {
   "cell_type": "markdown",
   "metadata": {},
   "source": [
    "* find the rough P"
   ]
  },
  {
   "cell_type": "code",
   "execution_count": 10,
   "metadata": {},
   "outputs": [
    {
     "name": "stdout",
     "output_type": "stream",
     "text": [
      "0 iteration\n",
      "P:  1\n",
      "score:  17.85063752276867\n",
      "best score:  17.85063752276867\n",
      "1 iteration\n",
      "P:  2\n",
      "score:  2.253521126760563\n",
      "best score:  17.85063752276867\n",
      "2 iteration\n",
      "P:  4\n",
      "score:  4.5668233713901945\n",
      "best score:  17.85063752276867\n",
      "3 iteration\n",
      "P:  8\n",
      "score:  38.31376734258271\n",
      "best score:  38.31376734258271\n",
      "4 iteration\n",
      "P:  16\n",
      "score:  41.00440072482527\n",
      "best score:  41.00440072482527\n",
      "5 iteration\n",
      "P:  32\n",
      "score:  61.00037608123354\n",
      "best score:  61.00037608123354\n",
      "6 iteration\n",
      "P:  64\n",
      "score:  67.49072929542646\n",
      "best score:  67.49072929542646\n",
      "7 iteration\n",
      "P:  128\n",
      "score:  72.38014425116674\n",
      "best score:  72.38014425116674\n",
      "8 iteration\n",
      "P:  256\n",
      "score:  74.39024390243904\n",
      "best score:  74.39024390243904\n",
      "9 iteration\n",
      "P:  512\n",
      "score:  75.79225352112677\n",
      "best score:  75.79225352112677\n",
      "10 iteration\n",
      "P:  1024\n",
      "score:  75.92592592592591\n",
      "best score:  75.92592592592591\n",
      "11 iteration\n",
      "P:  2048\n",
      "score:  76.11159546643417\n",
      "best score:  76.11159546643417\n",
      "12 iteration\n",
      "P:  4096\n",
      "score:  76.09457092819615\n",
      "best score:  76.11159546643417\n"
     ]
    }
   ],
   "source": [
    "#compute coefficient using average image vectors and feature function\n",
    "for i in range(13):\n",
    "    print(i,\"iteration\")\n",
    "    score = 0\n",
    "    #initialize containers\n",
    "    experiment_label_test = np.empty(num_test, dtype=int)\n",
    "    experiment_average_test = np.zeros((4,size_row * size_col), dtype=float)\n",
    "    experiment_count_test = np.zeros(4, dtype=int)\n",
    "\n",
    "    #set different parameter, P\n",
    "    p = pow(2,i)\n",
    "    print(\"P: \",p)\n",
    "    fx = np.dot(f[:,:p-1].T,im_average.T)\n",
    "    inverse = lin.pinv(fx.T)\n",
    "    coefficient = np.dot(inverse, im_label)\n",
    "\n",
    "    #Evaluate my classifier using MNIST test set\n",
    "    result = np.dot(np.dot(f[:,:p-1].T, list_image_test.T).T, coefficient)\n",
    "    num = 0\n",
    "    for k in range(result.size):\n",
    "        #sign(f(x))\n",
    "        if result[k] >= 0:\n",
    "            experiment_label_test[k] = 1\n",
    "        else:\n",
    "            experiment_label_test[k] = -1\n",
    "        #check TP, FP, TN, FN\n",
    "        if experiment_label_test[k] == 1 and list_label_test[k] == 0:\n",
    "            num = 0 #then TP\n",
    "        elif experiment_label_test[k] == 1 and list_label_test[k] !=0:\n",
    "            num = 1 #then FP\n",
    "        elif experiment_label_test[k] == -1 and list_label_test[k] == 0:\n",
    "            num = 2 #then FN\n",
    "        elif experiment_label_test[k] == -1 and list_label_test[k] !=0:\n",
    "            num = 3 #then TN\n",
    "        experiment_average_test[num,:] += list_image_test[k,:]\n",
    "        experiment_count_test[num] += 1\n",
    "\n",
    "    for j in range(4):\n",
    "        if experiment_count_test[j]!=0:\n",
    "            experiment_average_test[j, :] /= experiment_count_test[j]\n",
    "\n",
    "    precision = experiment_count_test[0]*100/(experiment_count_test[0]+experiment_count_test[1])\n",
    "    recall = experiment_count_test[0]*100/(experiment_count_test[0]+experiment_count_test[2])\n",
    "    #get the score\n",
    "    score = (2*precision*recall)/(precision+recall)\n",
    "    print(\"score: \",score)\n",
    "    if score > Final:\n",
    "        FinalP = p\n",
    "        Final = score\n",
    "        result_average_test = experiment_average_test\n",
    "        result_count_test = experiment_count_test\n",
    "\n",
    "    print(\"best score: \",Final)"
   ]
  },
  {
   "cell_type": "markdown",
   "metadata": {},
   "source": [
    "* vary parameter p with standard deviation = 1"
   ]
  },
  {
   "cell_type": "code",
   "execution_count": 11,
   "metadata": {
    "scrolled": true
   },
   "outputs": [
    {
     "name": "stdout",
     "output_type": "stream",
     "text": [
      "0  iteration\n",
      "P:  2049\n",
      "score:  76.11159546643417\n",
      "best score:  76.11159546643417\n",
      "1  iteration\n",
      "P:  2050\n",
      "score:  76.15720524017469\n",
      "best score:  76.15720524017469\n",
      "2  iteration\n",
      "P:  2051\n",
      "score:  76.09075043630017\n",
      "best score:  76.15720524017469\n",
      "3  iteration\n",
      "P:  2050\n",
      "score:  76.15720524017469\n",
      "best score:  76.15720524017469\n",
      "4  iteration\n",
      "P:  2049\n",
      "score:  76.11159546643417\n",
      "best score:  76.15720524017469\n",
      "5  iteration\n",
      "P:  2050\n",
      "score:  76.15720524017469\n",
      "best score:  76.15720524017469\n",
      "P of the best score:  2050\n",
      "The best score(F1):  76.15720524017469\n"
     ]
    }
   ],
   "source": [
    "#varing p with standard deviation = 1\n",
    "k=0\n",
    "incremental = 1\n",
    "p = FinalP\n",
    "stopChecker = 0\n",
    "for r in range(100):\n",
    "    print(r,\" iteration\")\n",
    "    #set different parameter, P\n",
    "    p = p + incremental\n",
    "    score = 0\n",
    "    #initialize containers\n",
    "    experiment_label_test = np.empty(num_test, dtype=int)\n",
    "    experiment_average_test = np.zeros((4,size_row * size_col), dtype=float)\n",
    "    experiment_count_test = np.zeros(4, dtype=int)\n",
    "\n",
    "    print(\"P: \",p)\n",
    "    fx = np.dot(f[:,:p-1].T,im_average.T)\n",
    "    inverse = lin.pinv(fx.T)\n",
    "    coefficient = np.dot(inverse, im_label)\n",
    "\n",
    "    #Evaluate my classifier using MNIST test set\n",
    "    result = np.dot(np.dot(f[:,:p-1].T, list_image_test.T).T, coefficient)\n",
    "    num = 0\n",
    "    for k in range(result.size):\n",
    "        #sign(f(x))\n",
    "        if result[k] >= 0:\n",
    "            experiment_label_test[k] = 1\n",
    "        else:\n",
    "            experiment_label_test[k] = -1\n",
    "        #check TP, FP, TN, FN\n",
    "        if experiment_label_test[k] == 1 and list_label_test[k] == 0:\n",
    "            num = 0 #then TP\n",
    "        elif experiment_label_test[k] == 1 and list_label_test[k] !=0:\n",
    "            num = 1 #then FP\n",
    "        elif experiment_label_test[k] == -1 and list_label_test[k] == 0:\n",
    "            num = 2 #then FN\n",
    "        elif experiment_label_test[k] == -1 and list_label_test[k] !=0:\n",
    "            num = 3 #then TN\n",
    "        experiment_average_test[num,:] += list_image_test[k,:]\n",
    "        experiment_count_test[num] += 1\n",
    "\n",
    "    for j in range(4):\n",
    "        experiment_average_test[j, :] /= experiment_count_test[j]\n",
    "    precision = experiment_count_test[0]*100/(experiment_count_test[0]+experiment_count_test[1])\n",
    "    recall = experiment_count_test[0]*100/(experiment_count_test[0]+experiment_count_test[2])\n",
    "    #get the score\n",
    "    score = (2*precision*recall)/(precision+recall)\n",
    "    print(\"score: \",score)\n",
    "    if Final == score:\n",
    "        stopChecker += 1\n",
    "\n",
    "    elif score > Final:\n",
    "        FinalP = p\n",
    "        Final = score\n",
    "        result_average_test = experiment_average_test\n",
    "        result_count_test = experiment_count_test\n",
    "    #change incremental direction\n",
    "    elif Final>score:\n",
    "        incremental *= -1\n",
    "    print(\"best score: \",Final)\n",
    "\n",
    "    #loop stop condition\n",
    "    if stopChecker == 3:\n",
    "        break\n",
    "        \n",
    "print(\"P of the best score: \",FinalP)\n",
    "print(\"The best score(F1): \",Final)"
   ]
  },
  {
   "cell_type": "markdown",
   "metadata": {},
   "source": [
    "* plot the TP,FP,FN,TN"
   ]
  },
  {
   "cell_type": "code",
   "execution_count": 12,
   "metadata": {},
   "outputs": [
    {
     "name": "stdout",
     "output_type": "stream",
     "text": [
      "TP :  872\n",
      "FP :  438\n",
      "FN :  108\n",
      "TN :  8582\n"
     ]
    },
    {
     "data": {
      "image/png": "[encoded data removed]",
      "text/plain": [
       "<Figure size 432x288 with 4 Axes>"
      ]
     },
     "metadata": {},
     "output_type": "display_data"
    }
   ],
   "source": [
    "#plot the TP,FP,TN,FN\n",
    "plt.figure()\n",
    "for i in range(4):\n",
    "    result_average_test[i, :] /= result_count_test[i]\n",
    "    title = ['TP','FP','FN','TN']\n",
    "    plt.subplot(1, 4, i+1)\n",
    "    plt.title(title[i])\n",
    "    plt.imshow(result_average_test[i,:].reshape((size_row, size_col)), cmap='Greys', interpolation='None')\n",
    "\n",
    "    frame   = plt.gca()\n",
    "    frame.axes.get_xaxis().set_visible(False)\n",
    "    frame.axes.get_yaxis().set_visible(False)\n",
    "\n",
    "    print(title[i],': ',result_count_test[i])\n",
    "plt.show()"
   ]
  },
  {
   "cell_type": "code",
   "execution_count": null,
   "metadata": {},
   "outputs": [],
   "source": []
  }
 ],
 "metadata": {
  "kernelspec": {
   "display_name": "Python 3",
   "language": "python",
   "name": "python3"
  },
  "language_info": {
   "codemirror_mode": {
    "name": "ipython",
    "version": 3
   },
   "file_extension": ".py",
   "mimetype": "text/x-python",
   "name": "python",
   "nbconvert_exporter": "python",
   "pygments_lexer": "ipython3",
   "version": "3.6.5"
  }
 },
 "nbformat": 4,
 "nbformat_minor": 2
}
