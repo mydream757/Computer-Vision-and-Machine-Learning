{
 "cells": [
  {
   "cell_type": "markdown",
   "metadata": {},
   "source": [
    "* Name : Joonyoung-Choi\n",
    "* Student ID: 20112096\n",
    "* Description: Binary-classfication using MNIST data\n",
    "* github: https://github.com/mydream757/Computer_Vision"
   ]
  },
  {
   "cell_type": "markdown",
   "metadata": {},
   "source": [
    "1. Import libraries"
   ]
  },
  {
   "cell_type": "markdown",
   "metadata": {},
   "source": [
    "* import needed libraries."
   ]
  },
  {
   "cell_type": "code",
   "execution_count": 1,
   "metadata": {},
   "outputs": [],
   "source": [
    "import matplotlib.pyplot as plt\n",
    "import numpy as np\n",
    "import numpy.linalg as lin\n",
    "from matplotlib.image import imread"
   ]
  },
  {
   "cell_type": "markdown",
   "metadata": {},
   "source": [
    "2. Read data from CSV files"
   ]
  },
  {
   "cell_type": "markdown",
   "metadata": {},
   "source": [
    "* get ready for using MNIST data"
   ]
  },
  {
   "cell_type": "code",
   "execution_count": 2,
   "metadata": {},
   "outputs": [],
   "source": [
    "file_data_train = \"mnist_train.csv\"\n",
    "file_data_test  = \"mnist_test.csv\"\n",
    "\n",
    "h_data_train    = open(file_data_train, \"r\")\n",
    "h_data_test     = open(file_data_test, \"r\")\n",
    "\n",
    "data_train      = h_data_train.readlines()\n",
    "data_test       = h_data_test.readlines()\n",
    "\n",
    "h_data_train.close()\n",
    "h_data_test.close()\n",
    "\n",
    "size_row    = 28    # height of the image\n",
    "size_col    = 28    # width of the image\n",
    "\n",
    "num_train   = len(data_train)   # number of training images\n",
    "num_test    = len(data_test)    # number of testing images"
   ]
  },
  {
   "cell_type": "markdown",
   "metadata": {},
   "source": [
    "3. Define functions"
   ]
  },
  {
   "cell_type": "markdown",
   "metadata": {},
   "source": [
    "* the function of data normalizing"
   ]
  },
  {
   "cell_type": "code",
   "execution_count": 3,
   "metadata": {},
   "outputs": [],
   "source": [
    "# normalize the values of the input data to be [0, 1]\n",
    "def normalize(data):\n",
    "    data_normalized = (data - min(data)) / (max(data) - min(data))\n",
    "    return(data_normalized)"
   ]
  },
  {
   "cell_type": "markdown",
   "metadata": {},
   "source": [
    "* the function of computing distance"
   ]
  },
  {
   "cell_type": "code",
   "execution_count": 4,
   "metadata": {},
   "outputs": [],
   "source": [
    "def distance(x, y):\n",
    "\n",
    "    d = (x - y) ** 2\n",
    "    s = np.sum(d)\n",
    "    # r = np.sqrt(s)\n",
    "    return(s)"
   ]
  },
  {
   "cell_type": "markdown",
   "metadata": {},
   "source": [
    "4. Define classifier"
   ]
  },
  {
   "cell_type": "markdown",
   "metadata": {},
   "source": [
    "* make containers which contain MNIST image data"
   ]
  },
  {
   "cell_type": "code",
   "execution_count": 5,
   "metadata": {},
   "outputs": [],
   "source": [
    "#make a matrix each column of which represents an images\n",
    "list_image_train    = np.empty((num_train, size_row * size_col), dtype=float)\n",
    "list_label_train    = np.empty(num_train, dtype=int)\n",
    "\n",
    "list_image_test     = np.empty((num_test, size_row * size_col), dtype=float)\n",
    "list_label_test     = np.empty(num_test, dtype=int)"
   ]
  },
  {
   "cell_type": "markdown",
   "metadata": {},
   "source": [
    "* parse the data sets"
   ]
  },
  {
   "cell_type": "code",
   "execution_count": 6,
   "metadata": {},
   "outputs": [],
   "source": [
    "count = 0\n",
    "for line in data_train:\n",
    "\n",
    "    line_data   = line.split(',')\n",
    "    label       = line_data[0]\n",
    "    im_vector   = np.asfarray(line_data[1:])\n",
    "    im_vector   = normalize(im_vector)\n",
    "\n",
    "    list_label_train[count]    = label\n",
    "    list_image_train[count,:]  = im_vector\n",
    "\n",
    "    count += 1\n",
    "\n",
    "count = 0\n",
    "for line in data_test:\n",
    "\n",
    "    line_data   = line.split(',')\n",
    "    label       = line_data[0]\n",
    "    im_vector   = np.asfarray(line_data[1:])\n",
    "    im_vector   = normalize(im_vector)\n",
    "\n",
    "    list_label_test[count]    = label\n",
    "    list_image_test[count,:]  = im_vector\n",
    "\n",
    "    count += 1"
   ]
  },
  {
   "cell_type": "markdown",
   "metadata": {},
   "source": [
    "* compute average images of each digits and label 1 or -1"
   ]
  },
  {
   "cell_type": "code",
   "execution_count": 7,
   "metadata": {},
   "outputs": [],
   "source": [
    "im_average  = np.zeros((10, size_col*size_row), dtype=float)\n",
    "im_count    = np.zeros(10, dtype=int)\n",
    "\n",
    "for i in range(num_train):\n",
    "    im_average[list_label_train[i],:] += list_image_train[i,:]\n",
    "    im_count[list_label_train[i]] += 1\n",
    "\n",
    "im_label = np.zeros((10,1), dtype=float)\n",
    "for i in range(10):\n",
    "    im_average[i,:] /= im_count[i]\n",
    "    #label = 0 : 1, others : -1\n",
    "    if i==0:\n",
    "        im_label[0,0] = 1\n",
    "    else:\n",
    "        im_label[i,0] = -1"
   ]
  },
  {
   "cell_type": "markdown",
   "metadata": {},
   "source": [
    "* compute coefficient."
   ]
  },
  {
   "cell_type": "code",
   "execution_count": 8,
   "metadata": {},
   "outputs": [
    {
     "data": {
      "image/png": "[encoded data removed]",
      "text/plain": [
       "<Figure size 432x288 with 1 Axes>"
      ]
     },
     "metadata": {},
     "output_type": "display_data"
    }
   ],
   "source": [
    "#compute coefficient using average image vectors\n",
    "inverse = lin.pinv(im_average)\n",
    "coefficient = np.dot(inverse, im_label)\n",
    "\n",
    "#plot the coefficient image\n",
    "image_coeff = coefficient[:,0].reshape((size_row, size_col))\n",
    "plt.figure()\n",
    "plt.imshow(image_coeff, cmap='Greys', interpolation='None')\n",
    "plt.show()"
   ]
  },
  {
   "cell_type": "markdown",
   "metadata": {},
   "source": [
    "5. Evaluate the classifier using the test data"
   ]
  },
  {
   "cell_type": "markdown",
   "metadata": {},
   "source": [
    "* ready for test"
   ]
  },
  {
   "cell_type": "code",
   "execution_count": 9,
   "metadata": {},
   "outputs": [],
   "source": [
    "#Ready for test\n",
    "experiment_label_test = np.empty(num_test, dtype=int)\n",
    "experiment_average_test = np.zeros((4,size_row * size_col), dtype=float)\n",
    "experiment_count_test = np.zeros(4, dtype=int)"
   ]
  },
  {
   "cell_type": "markdown",
   "metadata": {},
   "source": [
    "* label 1 or -1 to test data and check TP, FP, FN, TN"
   ]
  },
  {
   "cell_type": "code",
   "execution_count": 10,
   "metadata": {},
   "outputs": [],
   "source": [
    "#Evaluate my classifier using MNIST test set\n",
    "result = np.dot(list_image_test, coefficient)\n",
    "num = 0\n",
    "for i in range(result.size):\n",
    "    #sign(f(x))\n",
    "    if result[i] >= 0:\n",
    "        experiment_label_test[i] = 1\n",
    "    else:\n",
    "        experiment_label_test[i] = -1\n",
    "    #check TP, FP, TN, FN\n",
    "    if experiment_label_test[i] == 1 and list_label_test[i] == 0:\n",
    "        num = 0 #then TP\n",
    "    elif experiment_label_test[i] == 1 and list_label_test[i] !=0:\n",
    "        num = 1 #then FP\n",
    "    elif experiment_label_test[i] == -1 and list_label_test[i] == 0:\n",
    "        num = 2 #then FN\n",
    "    elif experiment_label_test[i] == -1 and list_label_test[i] !=0:\n",
    "        num = 3 #then TN\n",
    "    experiment_average_test[num,:] += list_image_test[i,:]\n",
    "    experiment_count_test[num] += 1"
   ]
  },
  {
   "cell_type": "markdown",
   "metadata": {},
   "source": [
    "* plot the result"
   ]
  },
  {
   "cell_type": "code",
   "execution_count": 11,
   "metadata": {},
   "outputs": [
    {
     "name": "stdout",
     "output_type": "stream",
     "text": [
      "TP :  871\n",
      "FP :  417\n",
      "FN :  109\n",
      "TN :  8603\n"
     ]
    },
    {
     "data": {
      "image/png": "[encoded data removed]",
      "text/plain": [
       "<Figure size 432x288 with 4 Axes>"
      ]
     },
     "metadata": {},
     "output_type": "display_data"
    },
    {
     "data": {
      "image/png": "[encoded data removed]",
      "text/plain": [
       "<Figure size 432x288 with 1 Axes>"
      ]
     },
     "metadata": {},
     "output_type": "display_data"
    }
   ],
   "source": [
    "plt.figure()\n",
    "for i in range(4):\n",
    "    experiment_average_test[i, :] /= experiment_count_test[i]\n",
    "    title = ['TP','FP','FN','TN']\n",
    "    plt.subplot(1, 4, i+1)\n",
    "    plt.title(title[i])\n",
    "    plt.imshow(experiment_average_test[i,:].reshape((size_row, size_col)), cmap='Greys', interpolation='None')\n",
    "\n",
    "    frame   = plt.gca()\n",
    "    frame.axes.get_xaxis().set_visible(False)\n",
    "    frame.axes.get_yaxis().set_visible(False)\n",
    "\n",
    "    print(title[i],': ',experiment_count_test[i])\n",
    "table = imread('Eval_table.png')\n",
    "plt.figure()\n",
    "plt.imshow(table)\n",
    "plt.show()"
   ]
  },
  {
   "cell_type": "markdown",
   "metadata": {},
   "source": [
    "* compute evaluations"
   ]
  },
  {
   "cell_type": "code",
   "execution_count": 12,
   "metadata": {},
   "outputs": [
    {
     "name": "stdout",
     "output_type": "stream",
     "text": [
      "Error rate:  5.26 %\n",
      "Precision:  67.62422360248448 %\n",
      "Recall:  88.87755102040816 %\n",
      "False positive rate:  4.623059866962306 %\n",
      "Accuracy:  94.74 %\n"
     ]
    }
   ],
   "source": [
    "#print the evaluation\n",
    "print('Error rate: ',(experiment_count_test[1]+experiment_count_test[2])*100/num_test,'%')\n",
    "print('Precision: ', experiment_count_test[0]*100/(experiment_count_test[0]+experiment_count_test[1]),'%')\n",
    "print('Recall: ',experiment_count_test[0]*100/(experiment_count_test[0]+experiment_count_test[2]),'%')\n",
    "print('False positive rate: ',experiment_count_test[1]*100/(experiment_count_test[1]+experiment_count_test[3]),'%')\n",
    "print('Accuracy: ', (experiment_count_test[0]+experiment_count_test[3])*100/num_test,'%')\n",
    "plt.show()"
   ]
  },
  {
   "cell_type": "code",
   "execution_count": null,
   "metadata": {},
   "outputs": [],
   "source": []
  },
  {
   "cell_type": "code",
   "execution_count": null,
   "metadata": {},
   "outputs": [],
   "source": []
  }
 ],
 "metadata": {
  "kernelspec": {
   "display_name": "Python 3",
   "language": "python",
   "name": "python3"
  },
  "language_info": {
   "codemirror_mode": {
    "name": "ipython",
    "version": 3
   },
   "file_extension": ".py",
   "mimetype": "text/x-python",
   "name": "python",
   "nbconvert_exporter": "python",
   "pygments_lexer": "ipython3",
   "version": "3.6.5"
  }
 },
 "nbformat": 4,
 "nbformat_minor": 2
}
